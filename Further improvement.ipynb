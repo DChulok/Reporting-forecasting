{
 "cells": [
  {
   "cell_type": "markdown",
   "id": "understood-generator",
   "metadata": {},
   "source": [
    "TOC:\n",
    "\n",
    "* [External Data](#first)\n",
    "\n",
    "* [More Models](#second)"
   ]
  },
  {
   "cell_type": "code",
   "execution_count": 1,
   "id": "opposed-christianity",
   "metadata": {},
   "outputs": [],
   "source": [
    "import numpy as np\n",
    "import pandas as pd\n",
    "import matplotlib\n",
    "from matplotlib import pyplot as plt\n",
    "import seaborn as sns\n",
    "import datetime"
   ]
  },
  {
   "cell_type": "code",
   "execution_count": 2,
   "id": "studied-buffer",
   "metadata": {},
   "outputs": [],
   "source": [
    "import xgboost as xgb\n",
    "import sklearn\n",
    "import shap"
   ]
  },
  {
   "cell_type": "code",
   "execution_count": 3,
   "id": "motivated-mining",
   "metadata": {},
   "outputs": [],
   "source": [
    "from sklearn.preprocessing import StandardScaler"
   ]
  },
  {
   "cell_type": "code",
   "execution_count": 4,
   "id": "offshore-amount",
   "metadata": {},
   "outputs": [],
   "source": [
    "sns.set_style('whitegrid')\n",
    "plt.rcParams[\"figure.figsize\"] = (12,6)"
   ]
  },
  {
   "cell_type": "code",
   "execution_count": 5,
   "id": "helpful-leeds",
   "metadata": {},
   "outputs": [],
   "source": [
    "X_train = pd.read_excel('data/X_train_feat_eng.xlsx', index_col=0)\n",
    "y_train = pd.read_excel('data/y_train_feat_eng.xlsx', index_col=0)\n",
    "X_test = pd.read_excel('data/X_test_feat_eng.xlsx', index_col=0)\n",
    "y_test = pd.read_excel('data/y_test_feat_eng.xlsx', index_col=0)"
   ]
  },
  {
   "cell_type": "code",
   "execution_count": 6,
   "id": "african-reynolds",
   "metadata": {},
   "outputs": [],
   "source": [
    "X_train['company'] = X_train['company'].astype('category')\n",
    "X_test['company'] = X_test['company'].astype('category')"
   ]
  },
  {
   "cell_type": "code",
   "execution_count": 7,
   "id": "continuous-curve",
   "metadata": {},
   "outputs": [],
   "source": [
    "def smape(y_true, y_pred, order=2):\n",
    "    if not isinstance(y_true, np.ndarray):\n",
    "        y_true = np.asarray(y_true)\n",
    "    if not isinstance(y_pred, np.ndarray):\n",
    "        y_pred = np.asarray(y_pred)\n",
    "    return 100*np.mean(2*np.linalg.norm(y_true-y_pred, ord=order))/(np.linalg.norm(y_true, ord=order)+np.linalg.norm(y_pred, ord=order))"
   ]
  },
  {
   "cell_type": "markdown",
   "id": "expired-mexico",
   "metadata": {},
   "source": [
    "# <a name=first> </a> External Data"
   ]
  },
  {
   "cell_type": "markdown",
   "id": "ranking-audio",
   "metadata": {},
   "source": [
    "## Loading"
   ]
  },
  {
   "cell_type": "markdown",
   "id": "prime-november",
   "metadata": {},
   "source": [
    "### CPI"
   ]
  },
  {
   "cell_type": "code",
   "execution_count": 9,
   "id": "involved-speaking",
   "metadata": {},
   "outputs": [],
   "source": [
    "cpi = pd.read_excel('data/external_data/cpi.xls', header=10)\n",
    "cpi.columns = ['date', 'cpi']\n",
    "cpi['date'] = pd.to_datetime(cpi['date'])\n",
    "#cpi.set_index('date', inplace=True)"
   ]
  },
  {
   "cell_type": "code",
   "execution_count": 10,
   "id": "suitable-genesis",
   "metadata": {},
   "outputs": [],
   "source": [
    "cpi['month'] = cpi['date'].dt.month\n",
    "cpi['year'] = cpi['date'].dt.year"
   ]
  },
  {
   "cell_type": "code",
   "execution_count": 11,
   "id": "joint-ballot",
   "metadata": {},
   "outputs": [],
   "source": [
    "cpi_train = [cpi[(cpi['month'] == month) & (cpi['year'] == year)]['cpi'].values[0] for month, year in zip(X_train.index.month, X_train.index.year)]\n",
    "cpi_test = [cpi[(cpi['month'] == month) & (cpi['year'] == year)]['cpi'].values[0] for month, year in zip(X_test.index.month, X_test.index.year)]"
   ]
  },
  {
   "cell_type": "code",
   "execution_count": 12,
   "id": "sublime-nancy",
   "metadata": {},
   "outputs": [],
   "source": [
    "X_train['CPI'] = cpi_train\n",
    "X_test['CPI'] = cpi_test"
   ]
  },
  {
   "cell_type": "markdown",
   "id": "approximate-issue",
   "metadata": {},
   "source": [
    "### PPI"
   ]
  },
  {
   "cell_type": "code",
   "execution_count": 13,
   "id": "lyric-solution",
   "metadata": {},
   "outputs": [],
   "source": [
    "ppi = pd.read_excel('data/external_data/ppi.xls', header=10)\n",
    "ppi.columns = ['date', 'ppi']\n",
    "ppi['date'] = pd.to_datetime(ppi['date'])\n",
    "ppi['month'] = ppi['date'].dt.month\n",
    "ppi['year'] = ppi['date'].dt.year"
   ]
  },
  {
   "cell_type": "code",
   "execution_count": 14,
   "id": "fundamental-class",
   "metadata": {},
   "outputs": [],
   "source": [
    "ppi_train = [ppi[(ppi['month'] == month) & (ppi['year'] == year)]['ppi'].values[0] for month, year in zip(X_train.index.month, X_train.index.year)]\n",
    "ppi_test = [ppi[(ppi['month'] == month) & (ppi['year'] == year)]['ppi'].values[0] for month, year in zip(X_test.index.month, X_test.index.year)]"
   ]
  },
  {
   "cell_type": "code",
   "execution_count": 15,
   "id": "incoming-nelson",
   "metadata": {},
   "outputs": [],
   "source": [
    "X_train['PPI'] = ppi_train\n",
    "X_test['PPI'] = ppi_test"
   ]
  },
  {
   "cell_type": "markdown",
   "id": "parental-calvin",
   "metadata": {},
   "source": [
    "### FED funds rate"
   ]
  },
  {
   "cell_type": "code",
   "execution_count": 16,
   "id": "composite-zimbabwe",
   "metadata": {},
   "outputs": [],
   "source": [
    "fed_rate = pd.read_excel('data/external_data/fed_rate.xls', header=10)\n",
    "fed_rate.columns = ['date', 'fed_rate']\n",
    "fed_rate['date'] = pd.to_datetime(fed_rate['date'])\n",
    "fed_rate['month'] = fed_rate['date'].dt.month\n",
    "fed_rate['year'] = fed_rate['date'].dt.year"
   ]
  },
  {
   "cell_type": "code",
   "execution_count": 17,
   "id": "mediterranean-editor",
   "metadata": {},
   "outputs": [],
   "source": [
    "fed_rate_train = [fed_rate[(fed_rate['month'] == month) & (fed_rate['year'] == year)]['fed_rate'].values[0] for month, year in zip(X_train.index.month, X_train.index.year)]\n",
    "fed_rate_test = [fed_rate[(fed_rate['month'] == month) & (fed_rate['year'] == year)]['fed_rate'].values[0] for month, year in zip(X_test.index.month, X_test.index.year)]"
   ]
  },
  {
   "cell_type": "code",
   "execution_count": 18,
   "id": "structural-liquid",
   "metadata": {},
   "outputs": [],
   "source": [
    "X_train['FED_RATE'] = fed_rate_train\n",
    "X_test['FED_RATE'] = fed_rate_test"
   ]
  },
  {
   "cell_type": "markdown",
   "id": "surrounded-indianapolis",
   "metadata": {},
   "source": [
    "### Real earings"
   ]
  },
  {
   "cell_type": "code",
   "execution_count": 19,
   "id": "fleet-experience",
   "metadata": {},
   "outputs": [],
   "source": [
    "wage = pd.read_excel('data/external_data/real_wage.xls', header=10)\n",
    "wage.columns = ['date', 'wage']\n",
    "wage['date'] = pd.to_datetime(wage['date'])\n",
    "wage['month'] = wage['date'].dt.month\n",
    "wage['year'] = wage['date'].dt.year"
   ]
  },
  {
   "cell_type": "code",
   "execution_count": 20,
   "id": "infinite-quarter",
   "metadata": {},
   "outputs": [],
   "source": [
    "months = [x for x in range(1, 13)]*20\n",
    "years = []\n",
    "for i in range(2003,2023):\n",
    "    years += [i]*12\n",
    "wage = pd.merge(left=wage, right=pd.DataFrame({'month': months, 'year': years}), how='right', on=['month', 'year'])\n",
    "wage = wage.fillna(method='ffill')"
   ]
  },
  {
   "cell_type": "code",
   "execution_count": 21,
   "id": "wrapped-adapter",
   "metadata": {},
   "outputs": [],
   "source": [
    "wage_train = [wage[(wage['month'] == month) & (wage['year'] == year)]['wage'].values[0] for month, year in zip(X_train.index.month, X_train.index.year)]\n",
    "wage_test = [wage[(wage['month'] == month) & (wage['year'] == year)]['wage'].values[0] for month, year in zip(X_test.index.month, X_test.index.year)]"
   ]
  },
  {
   "cell_type": "code",
   "execution_count": 22,
   "id": "behavioral-triangle",
   "metadata": {},
   "outputs": [],
   "source": [
    "X_train['WAGE'] = fed_rate_train\n",
    "X_test['WAGE'] = fed_rate_test"
   ]
  },
  {
   "cell_type": "markdown",
   "id": "continuing-morrison",
   "metadata": {},
   "source": [
    "### Unemployment"
   ]
  },
  {
   "cell_type": "code",
   "execution_count": 23,
   "id": "chief-weekend",
   "metadata": {},
   "outputs": [],
   "source": [
    "unemp = pd.read_excel('data/external_data/UNRATE.xls', header=10)\n",
    "unemp.columns = ['date', 'unemp']\n",
    "unemp['date'] = pd.to_datetime(unemp['date'])\n",
    "unemp['month'] = unemp['date'].dt.month\n",
    "unemp['year'] = unemp['date'].dt.year"
   ]
  },
  {
   "cell_type": "code",
   "execution_count": 24,
   "id": "possible-shelf",
   "metadata": {},
   "outputs": [],
   "source": [
    "unemp_train = [unemp[(unemp['month'] == month) & (unemp['year'] == year)]['unemp'].values[0] for month, year in zip(X_train.index.month, X_train.index.year)]\n",
    "unemp_test = [unemp[(unemp['month'] == month) & (unemp['year'] == year)]['unemp'].values[0] for month, year in zip(X_test.index.month, X_test.index.year)]"
   ]
  },
  {
   "cell_type": "code",
   "execution_count": 25,
   "id": "civilian-termination",
   "metadata": {},
   "outputs": [],
   "source": [
    "X_train['UNEMP'] = fed_rate_train\n",
    "X_test['UNEMP'] = fed_rate_test"
   ]
  },
  {
   "cell_type": "markdown",
   "id": "rubber-banks",
   "metadata": {},
   "source": [
    "### WTI"
   ]
  },
  {
   "cell_type": "code",
   "execution_count": 26,
   "id": "knowing-intermediate",
   "metadata": {},
   "outputs": [],
   "source": [
    "wti = pd.read_excel('data/external_data/WTI.xls', header=10)\n",
    "wti.columns = ['date', 'wti']\n",
    "wti['date'] = pd.to_datetime(wti['date'])\n",
    "wti['month'] = wti['date'].dt.month\n",
    "wti['year'] = wti['date'].dt.year"
   ]
  },
  {
   "cell_type": "code",
   "execution_count": 27,
   "id": "extreme-rogers",
   "metadata": {},
   "outputs": [],
   "source": [
    "wti_train = [wti[(wti['month'] == month) & (wti['year'] == year)]['wti'].values[0] for month, year in zip(X_train.index.month, X_train.index.year)]\n",
    "wti_test = [wti[(wti['month'] == month) & (wti['year'] == year)]['wti'].values[0] for month, year in zip(X_test.index.month, X_test.index.year)]"
   ]
  },
  {
   "cell_type": "code",
   "execution_count": 28,
   "id": "catholic-township",
   "metadata": {},
   "outputs": [],
   "source": [
    "X_train['WTI'] = wti_train\n",
    "X_test['WTI'] = wti_test"
   ]
  },
  {
   "cell_type": "markdown",
   "id": "thick-procedure",
   "metadata": {},
   "source": [
    "### Industrial Production"
   ]
  },
  {
   "cell_type": "code",
   "execution_count": 29,
   "id": "tested-madness",
   "metadata": {},
   "outputs": [],
   "source": [
    "indprod = pd.read_excel('data/external_data/INDPRO.xls', header=10)\n",
    "indprod.columns = ['date', 'indprod']\n",
    "indprod['date'] = pd.to_datetime(indprod['date'])\n",
    "indprod['month'] = indprod['date'].dt.month\n",
    "indprod['year'] = indprod['date'].dt.year"
   ]
  },
  {
   "cell_type": "code",
   "execution_count": 30,
   "id": "wound-federation",
   "metadata": {},
   "outputs": [],
   "source": [
    "indprod_train = [indprod[(indprod['month'] == month) & (indprod['year'] == year)]['indprod'].values[0] for month, year in zip(X_train.index.month, X_train.index.year)]\n",
    "indprod_test = [indprod[(indprod['month'] == month) & (indprod['year'] == year)]['indprod'].values[0] for month, year in zip(X_test.index.month, X_test.index.year)]"
   ]
  },
  {
   "cell_type": "code",
   "execution_count": 31,
   "id": "regular-portable",
   "metadata": {},
   "outputs": [],
   "source": [
    "X_train['indprod'] = indprod_train\n",
    "X_test['indprod'] = indprod_test"
   ]
  },
  {
   "cell_type": "markdown",
   "id": "nervous-reverse",
   "metadata": {},
   "source": [
    "### GDP"
   ]
  },
  {
   "cell_type": "code",
   "execution_count": 32,
   "id": "electronic-vegetable",
   "metadata": {},
   "outputs": [],
   "source": [
    "gdp = pd.read_excel('data/external_data/GDP.xls', header=10)\n",
    "gdp.columns = ['date', 'gdp']\n",
    "gdp['date'] = pd.to_datetime(gdp['date'])\n",
    "gdp['month'] = gdp['date'].dt.month\n",
    "gdp['year'] = gdp['date'].dt.year"
   ]
  },
  {
   "cell_type": "code",
   "execution_count": 33,
   "id": "fuzzy-perth",
   "metadata": {},
   "outputs": [],
   "source": [
    "months = [x for x in range(1, 13)]*20\n",
    "years = []\n",
    "for i in range(2003,2023):\n",
    "    years += [i]*12\n",
    "gdp = pd.merge(left=gdp, right=pd.DataFrame({'month': months, 'year': years}), how='right', on=['month', 'year'])\n",
    "gdp = gdp.fillna(method='ffill')"
   ]
  },
  {
   "cell_type": "code",
   "execution_count": 34,
   "id": "elegant-filing",
   "metadata": {},
   "outputs": [],
   "source": [
    "gdp_train = [gdp[(gdp['month'] == month) & (gdp['year'] == year)]['gdp'].values[0] for month, year in zip(X_train.index.month, X_train.index.year)]\n",
    "gdp_test = [gdp[(gdp['month'] == month) & (gdp['year'] == year)]['gdp'].values[0] for month, year in zip(X_test.index.month, X_test.index.year)]"
   ]
  },
  {
   "cell_type": "code",
   "execution_count": 35,
   "id": "figured-simulation",
   "metadata": {},
   "outputs": [],
   "source": [
    "X_train['gdp'] = fed_rate_train\n",
    "X_test['gdp'] = fed_rate_test"
   ]
  },
  {
   "cell_type": "markdown",
   "id": "regional-tamil",
   "metadata": {},
   "source": [
    "### Oil production"
   ]
  },
  {
   "cell_type": "code",
   "execution_count": 36,
   "id": "dominican-tamil",
   "metadata": {},
   "outputs": [],
   "source": [
    "oilprod = pd.read_excel('data/external_data/OILPROD.xls', header=10)\n",
    "oilprod.columns = ['date', 'oilprod']\n",
    "oilprod['date'] = pd.to_datetime(oilprod['date'])\n",
    "oilprod['month'] = oilprod['date'].dt.month\n",
    "oilprod['year'] = oilprod['date'].dt.year"
   ]
  },
  {
   "cell_type": "code",
   "execution_count": 37,
   "id": "cardiovascular-bishop",
   "metadata": {},
   "outputs": [],
   "source": [
    "months = [x for x in range(1, 13)]*20\n",
    "years = []\n",
    "for i in range(2003,2023):\n",
    "    years += [i]*12\n",
    "oilprod = pd.merge(left=oilprod, right=pd.DataFrame({'month': months, 'year': years}), how='right', on=['month', 'year'])\n",
    "oilprod = oilprod.fillna(method='ffill')"
   ]
  },
  {
   "cell_type": "code",
   "execution_count": 38,
   "id": "olive-richmond",
   "metadata": {},
   "outputs": [],
   "source": [
    "oilprod_train = [oilprod[(oilprod['month'] == month) & (oilprod['year'] == year)]['oilprod'].values[0] for month, year in zip(X_train.index.month, X_train.index.year)]\n",
    "oilprod_test = [oilprod[(oilprod['month'] == month) & (oilprod['year'] == year)]['oilprod'].values[0] for month, year in zip(X_test.index.month, X_test.index.year)]"
   ]
  },
  {
   "cell_type": "code",
   "execution_count": 39,
   "id": "constant-shannon",
   "metadata": {},
   "outputs": [],
   "source": [
    "X_train['oilprod'] = oilprod_train\n",
    "X_test['oilprod'] = oilprod_test"
   ]
  },
  {
   "cell_type": "markdown",
   "id": "focal-translation",
   "metadata": {},
   "source": [
    "### Oil extraction"
   ]
  },
  {
   "cell_type": "code",
   "execution_count": 40,
   "id": "faced-incidence",
   "metadata": {},
   "outputs": [],
   "source": [
    "oilextr = pd.read_excel('data/external_data/OILEXTR.xls', header=10)\n",
    "oilextr.columns = ['date', 'oilextr']\n",
    "oilextr['date'] = pd.to_datetime(oilextr['date'])\n",
    "oilextr['month'] = oilextr['date'].dt.month\n",
    "oilextr['year'] = oilextr['date'].dt.year"
   ]
  },
  {
   "cell_type": "code",
   "execution_count": 41,
   "id": "given-cancellation",
   "metadata": {},
   "outputs": [],
   "source": [
    "oilextr_train = [oilextr[(oilextr['month'] == month) & (oilextr['year'] == year)]['oilextr'].values[0] for month, year in zip(X_train.index.month, X_train.index.year)]\n",
    "oilextr_test = [oilextr[(oilextr['month'] == month) & (oilextr['year'] == year)]['oilextr'].values[0] for month, year in zip(X_test.index.month, X_test.index.year)]"
   ]
  },
  {
   "cell_type": "code",
   "execution_count": 42,
   "id": "empirical-theorem",
   "metadata": {},
   "outputs": [],
   "source": [
    "X_train['oilextr'] = oilextr_train\n",
    "X_test['oilextr'] = oilextr_test"
   ]
  },
  {
   "cell_type": "markdown",
   "id": "recognized-context",
   "metadata": {},
   "source": [
    "### S&P500 index"
   ]
  },
  {
   "cell_type": "code",
   "execution_count": 43,
   "id": "compatible-cause",
   "metadata": {},
   "outputs": [],
   "source": [
    "import yfinance as yf"
   ]
  },
  {
   "cell_type": "code",
   "execution_count": 44,
   "id": "ecological-louisiana",
   "metadata": {},
   "outputs": [
    {
     "name": "stdout",
     "output_type": "stream",
     "text": [
      "[*********************100%***********************]  1 of 1 completed\n"
     ]
    }
   ],
   "source": [
    "sp500 = yf.download('SPY', start='2004-02-01', end='2022-12-01')"
   ]
  },
  {
   "cell_type": "code",
   "execution_count": 45,
   "id": "elder-structure",
   "metadata": {},
   "outputs": [],
   "source": [
    "sp500.drop(columns=['Open', 'High', 'Low', 'Adj Close', 'Volume'], inplace=True)\n",
    "sp500.reset_index(inplace=True)"
   ]
  },
  {
   "cell_type": "code",
   "execution_count": 46,
   "id": "handmade-battle",
   "metadata": {},
   "outputs": [],
   "source": [
    "sp500.columns = ['date', 'sp500']\n",
    "sp500['date'] = pd.to_datetime(sp500['date'])\n",
    "sp500['month'] = sp500['date'].dt.month\n",
    "sp500['year'] = sp500['date'].dt.year"
   ]
  },
  {
   "cell_type": "code",
   "execution_count": 47,
   "id": "competent-swing",
   "metadata": {},
   "outputs": [],
   "source": [
    "sp500_train = [sp500[(sp500['month'] == month) & (sp500['year'] == year)]['sp500'].values[0] for month, year in zip(X_train.index.month, X_train.index.year)]\n",
    "sp500_test = [sp500[(sp500['month'] == month) & (sp500['year'] == year)]['sp500'].values[0] for month, year in zip(X_test.index.month, X_test.index.year)]"
   ]
  },
  {
   "cell_type": "code",
   "execution_count": 48,
   "id": "anticipated-vitamin",
   "metadata": {},
   "outputs": [],
   "source": [
    "X_train['sp500'] = sp500_train\n",
    "X_test['sp500'] = sp500_test"
   ]
  },
  {
   "cell_type": "code",
   "execution_count": 51,
   "id": "boxed-slope",
   "metadata": {},
   "outputs": [],
   "source": [
    "X_train.to_excel('data/X_train_extern.xlsx')\n",
    "X_test.to_excel('data/X_test_extern.xlsx')"
   ]
  },
  {
   "cell_type": "markdown",
   "id": "exotic-commander",
   "metadata": {},
   "source": [
    "## Usage"
   ]
  },
  {
   "cell_type": "code",
   "execution_count": 52,
   "id": "fixed-residence",
   "metadata": {},
   "outputs": [],
   "source": [
    "ext_features = ['CPI', 'PPI', 'FED_RATE', 'WAGE', 'UNEMP', 'WTI', 'indprod', 'gdp', 'oilprod', 'oilextr', 'sp500']"
   ]
  },
  {
   "cell_type": "code",
   "execution_count": 53,
   "id": "derived-department",
   "metadata": {},
   "outputs": [
    {
     "data": {
      "text/html": [
       "<div>\n",
       "<style scoped>\n",
       "    .dataframe tbody tr th:only-of-type {\n",
       "        vertical-align: middle;\n",
       "    }\n",
       "\n",
       "    .dataframe tbody tr th {\n",
       "        vertical-align: top;\n",
       "    }\n",
       "\n",
       "    .dataframe thead th {\n",
       "        text-align: right;\n",
       "    }\n",
       "</style>\n",
       "<table border=\"1\" class=\"dataframe\">\n",
       "  <thead>\n",
       "    <tr style=\"text-align: right;\">\n",
       "      <th></th>\n",
       "      <th>CPI</th>\n",
       "      <th>PPI</th>\n",
       "      <th>FED_RATE</th>\n",
       "      <th>WAGE</th>\n",
       "      <th>UNEMP</th>\n",
       "      <th>WTI</th>\n",
       "      <th>indprod</th>\n",
       "      <th>gdp</th>\n",
       "      <th>oilprod</th>\n",
       "      <th>oilextr</th>\n",
       "      <th>sp500</th>\n",
       "    </tr>\n",
       "    <tr>\n",
       "      <th>date</th>\n",
       "      <th></th>\n",
       "      <th></th>\n",
       "      <th></th>\n",
       "      <th></th>\n",
       "      <th></th>\n",
       "      <th></th>\n",
       "      <th></th>\n",
       "      <th></th>\n",
       "      <th></th>\n",
       "      <th></th>\n",
       "      <th></th>\n",
       "    </tr>\n",
       "  </thead>\n",
       "  <tbody>\n",
       "    <tr>\n",
       "      <th>2011-12-31</th>\n",
       "      <td>-0.246652</td>\n",
       "      <td>199.8</td>\n",
       "      <td>0.07</td>\n",
       "      <td>0.07</td>\n",
       "      <td>0.07</td>\n",
       "      <td>100.20</td>\n",
       "      <td>96.2147</td>\n",
       "      <td>0.07</td>\n",
       "      <td>92.1209</td>\n",
       "      <td>267.7</td>\n",
       "      <td>124.970001</td>\n",
       "    </tr>\n",
       "    <tr>\n",
       "      <th>2012-03-31</th>\n",
       "      <td>0.759456</td>\n",
       "      <td>204.2</td>\n",
       "      <td>0.13</td>\n",
       "      <td>0.13</td>\n",
       "      <td>0.13</td>\n",
       "      <td>108.76</td>\n",
       "      <td>96.5973</td>\n",
       "      <td>0.13</td>\n",
       "      <td>96.2302</td>\n",
       "      <td>259.7</td>\n",
       "      <td>137.729996</td>\n",
       "    </tr>\n",
       "    <tr>\n",
       "      <th>2012-06-30</th>\n",
       "      <td>-0.146640</td>\n",
       "      <td>199.8</td>\n",
       "      <td>0.16</td>\n",
       "      <td>0.16</td>\n",
       "      <td>0.16</td>\n",
       "      <td>83.17</td>\n",
       "      <td>97.4903</td>\n",
       "      <td>0.16</td>\n",
       "      <td>97.9508</td>\n",
       "      <td>208.4</td>\n",
       "      <td>128.160004</td>\n",
       "    </tr>\n",
       "    <tr>\n",
       "      <th>2012-09-30</th>\n",
       "      <td>0.446221</td>\n",
       "      <td>204.4</td>\n",
       "      <td>0.14</td>\n",
       "      <td>0.14</td>\n",
       "      <td>0.14</td>\n",
       "      <td>0.00</td>\n",
       "      <td>97.2405</td>\n",
       "      <td>0.14</td>\n",
       "      <td>101.8652</td>\n",
       "      <td>242.8</td>\n",
       "      <td>141.029999</td>\n",
       "    </tr>\n",
       "    <tr>\n",
       "      <th>2012-12-31</th>\n",
       "      <td>-0.269306</td>\n",
       "      <td>201.5</td>\n",
       "      <td>0.16</td>\n",
       "      <td>0.16</td>\n",
       "      <td>0.16</td>\n",
       "      <td>88.69</td>\n",
       "      <td>98.2061</td>\n",
       "      <td>0.16</td>\n",
       "      <td>108.4029</td>\n",
       "      <td>242.6</td>\n",
       "      <td>141.449997</td>\n",
       "    </tr>\n",
       "    <tr>\n",
       "      <th>...</th>\n",
       "      <td>...</td>\n",
       "      <td>...</td>\n",
       "      <td>...</td>\n",
       "      <td>...</td>\n",
       "      <td>...</td>\n",
       "      <td>...</td>\n",
       "      <td>...</td>\n",
       "      <td>...</td>\n",
       "      <td>...</td>\n",
       "      <td>...</td>\n",
       "      <td>...</td>\n",
       "    </tr>\n",
       "    <tr>\n",
       "      <th>2019-06-30</th>\n",
       "      <td>0.019915</td>\n",
       "      <td>200.3</td>\n",
       "      <td>2.38</td>\n",
       "      <td>2.38</td>\n",
       "      <td>2.38</td>\n",
       "      <td>53.25</td>\n",
       "      <td>102.5928</td>\n",
       "      <td>2.38</td>\n",
       "      <td>187.6951</td>\n",
       "      <td>128.8</td>\n",
       "      <td>274.570007</td>\n",
       "    </tr>\n",
       "    <tr>\n",
       "      <th>2019-09-30</th>\n",
       "      <td>0.078345</td>\n",
       "      <td>198.4</td>\n",
       "      <td>2.04</td>\n",
       "      <td>2.04</td>\n",
       "      <td>2.04</td>\n",
       "      <td>0.00</td>\n",
       "      <td>102.5790</td>\n",
       "      <td>2.04</td>\n",
       "      <td>191.5446</td>\n",
       "      <td>131.2</td>\n",
       "      <td>290.739990</td>\n",
       "    </tr>\n",
       "    <tr>\n",
       "      <th>2019-12-31</th>\n",
       "      <td>-0.090977</td>\n",
       "      <td>199.0</td>\n",
       "      <td>1.55</td>\n",
       "      <td>1.55</td>\n",
       "      <td>1.55</td>\n",
       "      <td>55.97</td>\n",
       "      <td>101.7632</td>\n",
       "      <td>1.55</td>\n",
       "      <td>195.3964</td>\n",
       "      <td>139.0</td>\n",
       "      <td>311.640015</td>\n",
       "    </tr>\n",
       "    <tr>\n",
       "      <th>2020-03-31</th>\n",
       "      <td>-0.217645</td>\n",
       "      <td>193.1</td>\n",
       "      <td>0.65</td>\n",
       "      <td>0.65</td>\n",
       "      <td>0.65</td>\n",
       "      <td>46.78</td>\n",
       "      <td>97.8746</td>\n",
       "      <td>0.65</td>\n",
       "      <td>192.6574</td>\n",
       "      <td>81.1</td>\n",
       "      <td>309.089996</td>\n",
       "    </tr>\n",
       "    <tr>\n",
       "      <th>2020-06-30</th>\n",
       "      <td>0.547205</td>\n",
       "      <td>191.2</td>\n",
       "      <td>0.08</td>\n",
       "      <td>0.08</td>\n",
       "      <td>0.08</td>\n",
       "      <td>35.49</td>\n",
       "      <td>91.7523</td>\n",
       "      <td>0.08</td>\n",
       "      <td>162.5163</td>\n",
       "      <td>87.5</td>\n",
       "      <td>305.549988</td>\n",
       "    </tr>\n",
       "  </tbody>\n",
       "</table>\n",
       "<p>1816 rows × 11 columns</p>\n",
       "</div>"
      ],
      "text/plain": [
       "                 CPI    PPI  FED_RATE  WAGE  UNEMP     WTI   indprod   gdp  \\\n",
       "date                                                                         \n",
       "2011-12-31 -0.246652  199.8      0.07  0.07   0.07  100.20   96.2147  0.07   \n",
       "2012-03-31  0.759456  204.2      0.13  0.13   0.13  108.76   96.5973  0.13   \n",
       "2012-06-30 -0.146640  199.8      0.16  0.16   0.16   83.17   97.4903  0.16   \n",
       "2012-09-30  0.446221  204.4      0.14  0.14   0.14    0.00   97.2405  0.14   \n",
       "2012-12-31 -0.269306  201.5      0.16  0.16   0.16   88.69   98.2061  0.16   \n",
       "...              ...    ...       ...   ...    ...     ...       ...   ...   \n",
       "2019-06-30  0.019915  200.3      2.38  2.38   2.38   53.25  102.5928  2.38   \n",
       "2019-09-30  0.078345  198.4      2.04  2.04   2.04    0.00  102.5790  2.04   \n",
       "2019-12-31 -0.090977  199.0      1.55  1.55   1.55   55.97  101.7632  1.55   \n",
       "2020-03-31 -0.217645  193.1      0.65  0.65   0.65   46.78   97.8746  0.65   \n",
       "2020-06-30  0.547205  191.2      0.08  0.08   0.08   35.49   91.7523  0.08   \n",
       "\n",
       "             oilprod  oilextr       sp500  \n",
       "date                                       \n",
       "2011-12-31   92.1209    267.7  124.970001  \n",
       "2012-03-31   96.2302    259.7  137.729996  \n",
       "2012-06-30   97.9508    208.4  128.160004  \n",
       "2012-09-30  101.8652    242.8  141.029999  \n",
       "2012-12-31  108.4029    242.6  141.449997  \n",
       "...              ...      ...         ...  \n",
       "2019-06-30  187.6951    128.8  274.570007  \n",
       "2019-09-30  191.5446    131.2  290.739990  \n",
       "2019-12-31  195.3964    139.0  311.640015  \n",
       "2020-03-31  192.6574     81.1  309.089996  \n",
       "2020-06-30  162.5163     87.5  305.549988  \n",
       "\n",
       "[1816 rows x 11 columns]"
      ]
     },
     "execution_count": 53,
     "metadata": {},
     "output_type": "execute_result"
    }
   ],
   "source": [
    "X_train[ext_features]"
   ]
  },
  {
   "cell_type": "code",
   "execution_count": 168,
   "id": "meaning-asthma",
   "metadata": {},
   "outputs": [],
   "source": [
    "xgb_params = {'reg_lambda': 2,\n",
    " 'reg_alpha': 0,\n",
    " 'max_depth': 5,\n",
    " 'learning_rate': 0.4,\n",
    " 'gamma': 0.05,\n",
    " 'tree_method': 'hist',\n",
    " 'seed': 42}"
   ]
  },
  {
   "cell_type": "code",
   "execution_count": 169,
   "id": "impressive-insert",
   "metadata": {},
   "outputs": [],
   "source": [
    "scalerX = StandardScaler().fit(X_train.loc[:,~X_train.columns.isin(['company'])])\n",
    "train_for_scale = X_train.loc[:,~X_train.columns.isin(['company'])]\n",
    "test_for_scale = X_test.loc[:,~X_test.columns.isin(['company'])]\n",
    "X_train_scaled = pd.DataFrame(scalerX.transform(train_for_scale), index=train_for_scale.index, columns=train_for_scale.columns)\n",
    "X_test_scaled = pd.DataFrame(scalerX.transform(test_for_scale), index=test_for_scale.index, columns=test_for_scale.columns)\n",
    "X_train_scaled = pd.concat([X_train_scaled, X_train['company']], axis=1)\n",
    "X_test_scaled = pd.concat([X_test_scaled, X_test['company']], axis=1)"
   ]
  },
  {
   "cell_type": "code",
   "execution_count": 170,
   "id": "natural-possession",
   "metadata": {},
   "outputs": [],
   "source": [
    "Xy_train_d = xgb.DMatrix(X_train_scaled, y_train, enable_categorical=True)\n",
    "X_test_d = xgb.DMatrix(X_test_scaled, enable_categorical=True)\n",
    "booster = xgb.train(xgb_params, Xy_train_d, num_boost_round=100,\n",
    "                    custom_metric=smape, maximize=False)"
   ]
  },
  {
   "cell_type": "code",
   "execution_count": 174,
   "id": "acquired-jacket",
   "metadata": {},
   "outputs": [
    {
     "data": {
      "text/plain": [
       "32.86212535444896"
      ]
     },
     "execution_count": 174,
     "metadata": {},
     "output_type": "execute_result"
    }
   ],
   "source": [
    "X_test_d = xgb.DMatrix(X_test_scaled, enable_categorical=True)\n",
    "preds = booster.predict(X_test_d)\n",
    "smape(y_test, preds)"
   ]
  },
  {
   "cell_type": "markdown",
   "id": "optional-composition",
   "metadata": {},
   "source": [
    "Our score has improved!"
   ]
  },
  {
   "cell_type": "markdown",
   "id": "listed-patent",
   "metadata": {},
   "source": [
    "# <a name=second> </a> More models"
   ]
  },
  {
   "cell_type": "markdown",
   "id": "empty-retro",
   "metadata": {},
   "source": [
    "## Pycaret"
   ]
  },
  {
   "cell_type": "code",
   "execution_count": 54,
   "id": "attractive-limitation",
   "metadata": {},
   "outputs": [],
   "source": [
    "from pycaret.regression import *"
   ]
  },
  {
   "cell_type": "code",
   "execution_count": 55,
   "id": "brutal-holiday",
   "metadata": {},
   "outputs": [],
   "source": [
    "target = list(y_train.columns)\n",
    "data_train = pd.concat([X_train, y_train], axis=1)"
   ]
  },
  {
   "cell_type": "code",
   "execution_count": 56,
   "id": "arctic-entertainment",
   "metadata": {},
   "outputs": [],
   "source": [
    "num_features = data_train.columns[~data_train.columns.isin(target+['company'])]"
   ]
  },
  {
   "cell_type": "code",
   "execution_count": 78,
   "id": "maritime-pressure",
   "metadata": {},
   "outputs": [],
   "source": [
    "final_model = {}\n",
    "all_results = []"
   ]
  },
  {
   "cell_type": "code",
   "execution_count": 83,
   "id": "typical-communist",
   "metadata": {},
   "outputs": [
    {
     "data": {
      "text/html": [
       "<style type=\"text/css\">\n",
       "#T_4dfef_ th {\n",
       "  text-align: left;\n",
       "}\n",
       "#T_4dfef_row0_col0, #T_4dfef_row0_col1, #T_4dfef_row0_col5, #T_4dfef_row0_col6, #T_4dfef_row1_col0, #T_4dfef_row1_col1, #T_4dfef_row1_col2, #T_4dfef_row1_col3, #T_4dfef_row1_col4, #T_4dfef_row1_col5, #T_4dfef_row1_col6, #T_4dfef_row2_col0, #T_4dfef_row2_col2, #T_4dfef_row2_col3, #T_4dfef_row2_col4, #T_4dfef_row2_col5, #T_4dfef_row2_col6, #T_4dfef_row3_col0, #T_4dfef_row3_col1, #T_4dfef_row3_col2, #T_4dfef_row3_col3, #T_4dfef_row3_col4, #T_4dfef_row3_col5, #T_4dfef_row3_col6, #T_4dfef_row4_col0, #T_4dfef_row4_col1, #T_4dfef_row4_col2, #T_4dfef_row4_col3, #T_4dfef_row4_col4, #T_4dfef_row4_col5, #T_4dfef_row4_col6, #T_4dfef_row5_col0, #T_4dfef_row5_col1, #T_4dfef_row5_col2, #T_4dfef_row5_col3, #T_4dfef_row5_col4, #T_4dfef_row5_col5, #T_4dfef_row5_col6, #T_4dfef_row6_col0, #T_4dfef_row6_col1, #T_4dfef_row6_col2, #T_4dfef_row6_col3, #T_4dfef_row6_col4, #T_4dfef_row6_col5, #T_4dfef_row7_col0, #T_4dfef_row7_col1, #T_4dfef_row7_col2, #T_4dfef_row7_col3, #T_4dfef_row7_col4, #T_4dfef_row7_col5, #T_4dfef_row7_col6, #T_4dfef_row8_col0, #T_4dfef_row8_col1, #T_4dfef_row8_col2, #T_4dfef_row8_col3, #T_4dfef_row8_col4, #T_4dfef_row8_col5, #T_4dfef_row8_col6, #T_4dfef_row9_col0, #T_4dfef_row9_col1, #T_4dfef_row9_col2, #T_4dfef_row9_col3, #T_4dfef_row9_col4, #T_4dfef_row9_col5, #T_4dfef_row9_col6, #T_4dfef_row10_col0, #T_4dfef_row10_col1, #T_4dfef_row10_col2, #T_4dfef_row10_col3, #T_4dfef_row10_col4, #T_4dfef_row10_col5, #T_4dfef_row10_col6, #T_4dfef_row11_col0, #T_4dfef_row11_col1, #T_4dfef_row11_col2, #T_4dfef_row11_col3, #T_4dfef_row11_col4, #T_4dfef_row11_col5, #T_4dfef_row11_col6, #T_4dfef_row12_col0, #T_4dfef_row12_col1, #T_4dfef_row12_col2, #T_4dfef_row12_col3, #T_4dfef_row12_col4, #T_4dfef_row12_col5, #T_4dfef_row12_col6, #T_4dfef_row13_col0, #T_4dfef_row13_col1, #T_4dfef_row13_col2, #T_4dfef_row13_col3, #T_4dfef_row13_col4, #T_4dfef_row13_col6, #T_4dfef_row14_col0, #T_4dfef_row14_col1, #T_4dfef_row14_col2, #T_4dfef_row14_col3, #T_4dfef_row14_col4, #T_4dfef_row14_col5, #T_4dfef_row14_col6, #T_4dfef_row15_col0, #T_4dfef_row15_col1, #T_4dfef_row15_col2, #T_4dfef_row15_col3, #T_4dfef_row15_col4, #T_4dfef_row15_col5, #T_4dfef_row15_col6, #T_4dfef_row16_col0, #T_4dfef_row16_col1, #T_4dfef_row16_col2, #T_4dfef_row16_col3, #T_4dfef_row16_col4, #T_4dfef_row16_col5, #T_4dfef_row16_col6, #T_4dfef_row17_col0, #T_4dfef_row17_col1, #T_4dfef_row17_col2, #T_4dfef_row17_col3, #T_4dfef_row17_col4, #T_4dfef_row17_col5, #T_4dfef_row17_col6, #T_4dfef_row18_col0, #T_4dfef_row18_col1, #T_4dfef_row18_col2, #T_4dfef_row18_col3, #T_4dfef_row18_col4, #T_4dfef_row18_col5, #T_4dfef_row18_col6 {\n",
       "  text-align: left;\n",
       "}\n",
       "#T_4dfef_row0_col2, #T_4dfef_row0_col3, #T_4dfef_row0_col4, #T_4dfef_row2_col1, #T_4dfef_row6_col6, #T_4dfef_row13_col5 {\n",
       "  text-align: left;\n",
       "  background-color: yellow;\n",
       "}\n",
       "#T_4dfef_row0_col7, #T_4dfef_row1_col7, #T_4dfef_row2_col7, #T_4dfef_row3_col7, #T_4dfef_row4_col7, #T_4dfef_row5_col7, #T_4dfef_row6_col7, #T_4dfef_row7_col7, #T_4dfef_row8_col7, #T_4dfef_row9_col7, #T_4dfef_row10_col7, #T_4dfef_row11_col7, #T_4dfef_row13_col7, #T_4dfef_row14_col7, #T_4dfef_row15_col7, #T_4dfef_row16_col7, #T_4dfef_row17_col7, #T_4dfef_row18_col7 {\n",
       "  text-align: left;\n",
       "  background-color: lightgrey;\n",
       "}\n",
       "#T_4dfef_row12_col7 {\n",
       "  text-align: left;\n",
       "  background-color: yellow;\n",
       "  background-color: lightgrey;\n",
       "}\n",
       "</style>\n",
       "<table id=\"T_4dfef_\">\n",
       "  <thead>\n",
       "    <tr>\n",
       "      <th class=\"blank level0\" >&nbsp;</th>\n",
       "      <th class=\"col_heading level0 col0\" >Model</th>\n",
       "      <th class=\"col_heading level0 col1\" >MAE</th>\n",
       "      <th class=\"col_heading level0 col2\" >MSE</th>\n",
       "      <th class=\"col_heading level0 col3\" >RMSE</th>\n",
       "      <th class=\"col_heading level0 col4\" >R2</th>\n",
       "      <th class=\"col_heading level0 col5\" >RMSLE</th>\n",
       "      <th class=\"col_heading level0 col6\" >MAPE</th>\n",
       "      <th class=\"col_heading level0 col7\" >TT (Sec)</th>\n",
       "    </tr>\n",
       "  </thead>\n",
       "  <tbody>\n",
       "    <tr>\n",
       "      <th id=\"T_4dfef_level0_row0\" class=\"row_heading level0 row0\" >par</th>\n",
       "      <td id=\"T_4dfef_row0_col0\" class=\"data row0 col0\" >Passive Aggressive Regressor</td>\n",
       "      <td id=\"T_4dfef_row0_col1\" class=\"data row0 col1\" >302.1858</td>\n",
       "      <td id=\"T_4dfef_row0_col2\" class=\"data row0 col2\" >353579.4676</td>\n",
       "      <td id=\"T_4dfef_row0_col3\" class=\"data row0 col3\" >543.7311</td>\n",
       "      <td id=\"T_4dfef_row0_col4\" class=\"data row0 col4\" >0.6480</td>\n",
       "      <td id=\"T_4dfef_row0_col5\" class=\"data row0 col5\" >1.3538</td>\n",
       "      <td id=\"T_4dfef_row0_col6\" class=\"data row0 col6\" >5224.4460</td>\n",
       "      <td id=\"T_4dfef_row0_col7\" class=\"data row0 col7\" >0.0200</td>\n",
       "    </tr>\n",
       "    <tr>\n",
       "      <th id=\"T_4dfef_level0_row1\" class=\"row_heading level0 row1\" >huber</th>\n",
       "      <td id=\"T_4dfef_row1_col0\" class=\"data row1 col0\" >Huber Regressor</td>\n",
       "      <td id=\"T_4dfef_row1_col1\" class=\"data row1 col1\" >314.1553</td>\n",
       "      <td id=\"T_4dfef_row1_col2\" class=\"data row1 col2\" >374305.5450</td>\n",
       "      <td id=\"T_4dfef_row1_col3\" class=\"data row1 col3\" >562.6681</td>\n",
       "      <td id=\"T_4dfef_row1_col4\" class=\"data row1 col4\" >0.6457</td>\n",
       "      <td id=\"T_4dfef_row1_col5\" class=\"data row1 col5\" >1.4126</td>\n",
       "      <td id=\"T_4dfef_row1_col6\" class=\"data row1 col6\" >5232.2847</td>\n",
       "      <td id=\"T_4dfef_row1_col7\" class=\"data row1 col7\" >0.0400</td>\n",
       "    </tr>\n",
       "    <tr>\n",
       "      <th id=\"T_4dfef_level0_row2\" class=\"row_heading level0 row2\" >et</th>\n",
       "      <td id=\"T_4dfef_row2_col0\" class=\"data row2 col0\" >Extra Trees Regressor</td>\n",
       "      <td id=\"T_4dfef_row2_col1\" class=\"data row2 col1\" >270.9118</td>\n",
       "      <td id=\"T_4dfef_row2_col2\" class=\"data row2 col2\" >400775.6418</td>\n",
       "      <td id=\"T_4dfef_row2_col3\" class=\"data row2 col3\" >584.9958</td>\n",
       "      <td id=\"T_4dfef_row2_col4\" class=\"data row2 col4\" >0.5843</td>\n",
       "      <td id=\"T_4dfef_row2_col5\" class=\"data row2 col5\" >1.0678</td>\n",
       "      <td id=\"T_4dfef_row2_col6\" class=\"data row2 col6\" >7350.8834</td>\n",
       "      <td id=\"T_4dfef_row2_col7\" class=\"data row2 col7\" >0.3400</td>\n",
       "    </tr>\n",
       "    <tr>\n",
       "      <th id=\"T_4dfef_level0_row3\" class=\"row_heading level0 row3\" >rf</th>\n",
       "      <td id=\"T_4dfef_row3_col0\" class=\"data row3 col0\" >Random Forest Regressor</td>\n",
       "      <td id=\"T_4dfef_row3_col1\" class=\"data row3 col1\" >320.3364</td>\n",
       "      <td id=\"T_4dfef_row3_col2\" class=\"data row3 col2\" >413474.2801</td>\n",
       "      <td id=\"T_4dfef_row3_col3\" class=\"data row3 col3\" >611.1430</td>\n",
       "      <td id=\"T_4dfef_row3_col4\" class=\"data row3 col4\" >0.4539</td>\n",
       "      <td id=\"T_4dfef_row3_col5\" class=\"data row3 col5\" >1.1907</td>\n",
       "      <td id=\"T_4dfef_row3_col6\" class=\"data row3 col6\" >3876.1383</td>\n",
       "      <td id=\"T_4dfef_row3_col7\" class=\"data row3 col7\" >0.4467</td>\n",
       "    </tr>\n",
       "    <tr>\n",
       "      <th id=\"T_4dfef_level0_row4\" class=\"row_heading level0 row4\" >gbr</th>\n",
       "      <td id=\"T_4dfef_row4_col0\" class=\"data row4 col0\" >Gradient Boosting Regressor</td>\n",
       "      <td id=\"T_4dfef_row4_col1\" class=\"data row4 col1\" >317.9184</td>\n",
       "      <td id=\"T_4dfef_row4_col2\" class=\"data row4 col2\" >581939.5483</td>\n",
       "      <td id=\"T_4dfef_row4_col3\" class=\"data row4 col3\" >652.9629</td>\n",
       "      <td id=\"T_4dfef_row4_col4\" class=\"data row4 col4\" >0.5888</td>\n",
       "      <td id=\"T_4dfef_row4_col5\" class=\"data row4 col5\" >1.1144</td>\n",
       "      <td id=\"T_4dfef_row4_col6\" class=\"data row4 col6\" >2232.5199</td>\n",
       "      <td id=\"T_4dfef_row4_col7\" class=\"data row4 col7\" >0.3667</td>\n",
       "    </tr>\n",
       "    <tr>\n",
       "      <th id=\"T_4dfef_level0_row5\" class=\"row_heading level0 row5\" >knn</th>\n",
       "      <td id=\"T_4dfef_row5_col0\" class=\"data row5 col0\" >K Neighbors Regressor</td>\n",
       "      <td id=\"T_4dfef_row5_col1\" class=\"data row5 col1\" >330.3263</td>\n",
       "      <td id=\"T_4dfef_row5_col2\" class=\"data row5 col2\" >617610.3125</td>\n",
       "      <td id=\"T_4dfef_row5_col3\" class=\"data row5 col3\" >721.5008</td>\n",
       "      <td id=\"T_4dfef_row5_col4\" class=\"data row5 col4\" >0.4843</td>\n",
       "      <td id=\"T_4dfef_row5_col5\" class=\"data row5 col5\" >1.1741</td>\n",
       "      <td id=\"T_4dfef_row5_col6\" class=\"data row5 col6\" >1973.7299</td>\n",
       "      <td id=\"T_4dfef_row5_col7\" class=\"data row5 col7\" >0.0533</td>\n",
       "    </tr>\n",
       "    <tr>\n",
       "      <th id=\"T_4dfef_level0_row6\" class=\"row_heading level0 row6\" >en</th>\n",
       "      <td id=\"T_4dfef_row6_col0\" class=\"data row6 col0\" >Elastic Net</td>\n",
       "      <td id=\"T_4dfef_row6_col1\" class=\"data row6 col1\" >474.6358</td>\n",
       "      <td id=\"T_4dfef_row6_col2\" class=\"data row6 col2\" >767719.3802</td>\n",
       "      <td id=\"T_4dfef_row6_col3\" class=\"data row6 col3\" >820.6660</td>\n",
       "      <td id=\"T_4dfef_row6_col4\" class=\"data row6 col4\" >0.2797</td>\n",
       "      <td id=\"T_4dfef_row6_col5\" class=\"data row6 col5\" >1.5225</td>\n",
       "      <td id=\"T_4dfef_row6_col6\" class=\"data row6 col6\" >703.0299</td>\n",
       "      <td id=\"T_4dfef_row6_col7\" class=\"data row6 col7\" >0.0167</td>\n",
       "    </tr>\n",
       "    <tr>\n",
       "      <th id=\"T_4dfef_level0_row7\" class=\"row_heading level0 row7\" >ada</th>\n",
       "      <td id=\"T_4dfef_row7_col0\" class=\"data row7 col0\" >AdaBoost Regressor</td>\n",
       "      <td id=\"T_4dfef_row7_col1\" class=\"data row7 col1\" >764.6917</td>\n",
       "      <td id=\"T_4dfef_row7_col2\" class=\"data row7 col2\" >906422.0364</td>\n",
       "      <td id=\"T_4dfef_row7_col3\" class=\"data row7 col3\" >951.2281</td>\n",
       "      <td id=\"T_4dfef_row7_col4\" class=\"data row7 col4\" >-1.1162</td>\n",
       "      <td id=\"T_4dfef_row7_col5\" class=\"data row7 col5\" >2.2249</td>\n",
       "      <td id=\"T_4dfef_row7_col6\" class=\"data row7 col6\" >7973.8127</td>\n",
       "      <td id=\"T_4dfef_row7_col7\" class=\"data row7 col7\" >0.1333</td>\n",
       "    </tr>\n",
       "    <tr>\n",
       "      <th id=\"T_4dfef_level0_row8\" class=\"row_heading level0 row8\" >br</th>\n",
       "      <td id=\"T_4dfef_row8_col0\" class=\"data row8 col0\" >Bayesian Ridge</td>\n",
       "      <td id=\"T_4dfef_row8_col1\" class=\"data row8 col1\" >580.5406</td>\n",
       "      <td id=\"T_4dfef_row8_col2\" class=\"data row8 col2\" >1133846.4622</td>\n",
       "      <td id=\"T_4dfef_row8_col3\" class=\"data row8 col3\" >1003.0978</td>\n",
       "      <td id=\"T_4dfef_row8_col4\" class=\"data row8 col4\" >-0.1432</td>\n",
       "      <td id=\"T_4dfef_row8_col5\" class=\"data row8 col5\" >1.7525</td>\n",
       "      <td id=\"T_4dfef_row8_col6\" class=\"data row8 col6\" >6537.8229</td>\n",
       "      <td id=\"T_4dfef_row8_col7\" class=\"data row8 col7\" >0.0167</td>\n",
       "    </tr>\n",
       "    <tr>\n",
       "      <th id=\"T_4dfef_level0_row9\" class=\"row_heading level0 row9\" >omp</th>\n",
       "      <td id=\"T_4dfef_row9_col0\" class=\"data row9 col0\" >Orthogonal Matching Pursuit</td>\n",
       "      <td id=\"T_4dfef_row9_col1\" class=\"data row9 col1\" >602.5931</td>\n",
       "      <td id=\"T_4dfef_row9_col2\" class=\"data row9 col2\" >1245191.2105</td>\n",
       "      <td id=\"T_4dfef_row9_col3\" class=\"data row9 col3\" >1048.3958</td>\n",
       "      <td id=\"T_4dfef_row9_col4\" class=\"data row9 col4\" >-0.2797</td>\n",
       "      <td id=\"T_4dfef_row9_col5\" class=\"data row9 col5\" >1.5768</td>\n",
       "      <td id=\"T_4dfef_row9_col6\" class=\"data row9 col6\" >3371.0947</td>\n",
       "      <td id=\"T_4dfef_row9_col7\" class=\"data row9 col7\" >0.0133</td>\n",
       "    </tr>\n",
       "    <tr>\n",
       "      <th id=\"T_4dfef_level0_row10\" class=\"row_heading level0 row10\" >lasso</th>\n",
       "      <td id=\"T_4dfef_row10_col0\" class=\"data row10 col0\" >Lasso Regression</td>\n",
       "      <td id=\"T_4dfef_row10_col1\" class=\"data row10 col1\" >729.8362</td>\n",
       "      <td id=\"T_4dfef_row10_col2\" class=\"data row10 col2\" >1773544.5208</td>\n",
       "      <td id=\"T_4dfef_row10_col3\" class=\"data row10 col3\" >1224.2229</td>\n",
       "      <td id=\"T_4dfef_row10_col4\" class=\"data row10 col4\" >-0.7528</td>\n",
       "      <td id=\"T_4dfef_row10_col5\" class=\"data row10 col5\" >1.9560</td>\n",
       "      <td id=\"T_4dfef_row10_col6\" class=\"data row10 col6\" >6484.6433</td>\n",
       "      <td id=\"T_4dfef_row10_col7\" class=\"data row10 col7\" >0.0233</td>\n",
       "    </tr>\n",
       "    <tr>\n",
       "      <th id=\"T_4dfef_level0_row11\" class=\"row_heading level0 row11\" >ridge</th>\n",
       "      <td id=\"T_4dfef_row11_col0\" class=\"data row11 col0\" >Ridge Regression</td>\n",
       "      <td id=\"T_4dfef_row11_col1\" class=\"data row11 col1\" >773.8084</td>\n",
       "      <td id=\"T_4dfef_row11_col2\" class=\"data row11 col2\" >1894489.7917</td>\n",
       "      <td id=\"T_4dfef_row11_col3\" class=\"data row11 col3\" >1272.2746</td>\n",
       "      <td id=\"T_4dfef_row11_col4\" class=\"data row11 col4\" >-1.0255</td>\n",
       "      <td id=\"T_4dfef_row11_col5\" class=\"data row11 col5\" >2.0004</td>\n",
       "      <td id=\"T_4dfef_row11_col6\" class=\"data row11 col6\" >2677.1509</td>\n",
       "      <td id=\"T_4dfef_row11_col7\" class=\"data row11 col7\" >0.0167</td>\n",
       "    </tr>\n",
       "    <tr>\n",
       "      <th id=\"T_4dfef_level0_row12\" class=\"row_heading level0 row12\" >dummy</th>\n",
       "      <td id=\"T_4dfef_row12_col0\" class=\"data row12 col0\" >Dummy Regressor</td>\n",
       "      <td id=\"T_4dfef_row12_col1\" class=\"data row12 col1\" >1116.3128</td>\n",
       "      <td id=\"T_4dfef_row12_col2\" class=\"data row12 col2\" >1789023.1875</td>\n",
       "      <td id=\"T_4dfef_row12_col3\" class=\"data row12 col3\" >1296.7138</td>\n",
       "      <td id=\"T_4dfef_row12_col4\" class=\"data row12 col4\" >-1.2472</td>\n",
       "      <td id=\"T_4dfef_row12_col5\" class=\"data row12 col5\" >2.6453</td>\n",
       "      <td id=\"T_4dfef_row12_col6\" class=\"data row12 col6\" >16718.3333</td>\n",
       "      <td id=\"T_4dfef_row12_col7\" class=\"data row12 col7\" >0.0100</td>\n",
       "    </tr>\n",
       "    <tr>\n",
       "      <th id=\"T_4dfef_level0_row13\" class=\"row_heading level0 row13\" >dt</th>\n",
       "      <td id=\"T_4dfef_row13_col0\" class=\"data row13 col0\" >Decision Tree Regressor</td>\n",
       "      <td id=\"T_4dfef_row13_col1\" class=\"data row13 col1\" >450.9096</td>\n",
       "      <td id=\"T_4dfef_row13_col2\" class=\"data row13 col2\" >3321119.5051</td>\n",
       "      <td id=\"T_4dfef_row13_col3\" class=\"data row13 col3\" >1298.5695</td>\n",
       "      <td id=\"T_4dfef_row13_col4\" class=\"data row13 col4\" >-0.6887</td>\n",
       "      <td id=\"T_4dfef_row13_col5\" class=\"data row13 col5\" >0.9185</td>\n",
       "      <td id=\"T_4dfef_row13_col6\" class=\"data row13 col6\" >1100.8502</td>\n",
       "      <td id=\"T_4dfef_row13_col7\" class=\"data row13 col7\" >0.0300</td>\n",
       "    </tr>\n",
       "    <tr>\n",
       "      <th id=\"T_4dfef_level0_row14\" class=\"row_heading level0 row14\" >lightgbm</th>\n",
       "      <td id=\"T_4dfef_row14_col0\" class=\"data row14 col0\" >Light Gradient Boosting Machine</td>\n",
       "      <td id=\"T_4dfef_row14_col1\" class=\"data row14 col1\" >636.5560</td>\n",
       "      <td id=\"T_4dfef_row14_col2\" class=\"data row14 col2\" >2365812.6112</td>\n",
       "      <td id=\"T_4dfef_row14_col3\" class=\"data row14 col3\" >1513.7735</td>\n",
       "      <td id=\"T_4dfef_row14_col4\" class=\"data row14 col4\" >-5.8744</td>\n",
       "      <td id=\"T_4dfef_row14_col5\" class=\"data row14 col5\" >1.6026</td>\n",
       "      <td id=\"T_4dfef_row14_col6\" class=\"data row14 col6\" >2783.7311</td>\n",
       "      <td id=\"T_4dfef_row14_col7\" class=\"data row14 col7\" >0.2333</td>\n",
       "    </tr>\n",
       "    <tr>\n",
       "      <th id=\"T_4dfef_level0_row15\" class=\"row_heading level0 row15\" >xgboost</th>\n",
       "      <td id=\"T_4dfef_row15_col0\" class=\"data row15 col0\" >Extreme Gradient Boosting</td>\n",
       "      <td id=\"T_4dfef_row15_col1\" class=\"data row15 col1\" >542.9605</td>\n",
       "      <td id=\"T_4dfef_row15_col2\" class=\"data row15 col2\" >3892278.8333</td>\n",
       "      <td id=\"T_4dfef_row15_col3\" class=\"data row15 col3\" >1830.7257</td>\n",
       "      <td id=\"T_4dfef_row15_col4\" class=\"data row15 col4\" >-7.1833</td>\n",
       "      <td id=\"T_4dfef_row15_col5\" class=\"data row15 col5\" >1.2929</td>\n",
       "      <td id=\"T_4dfef_row15_col6\" class=\"data row15 col6\" >797.8228</td>\n",
       "      <td id=\"T_4dfef_row15_col7\" class=\"data row15 col7\" >0.4333</td>\n",
       "    </tr>\n",
       "    <tr>\n",
       "      <th id=\"T_4dfef_level0_row16\" class=\"row_heading level0 row16\" >llar</th>\n",
       "      <td id=\"T_4dfef_row16_col0\" class=\"data row16 col0\" >Lasso Least Angle Regression</td>\n",
       "      <td id=\"T_4dfef_row16_col1\" class=\"data row16 col1\" >749.7012</td>\n",
       "      <td id=\"T_4dfef_row16_col2\" class=\"data row16 col2\" >11809158.8160</td>\n",
       "      <td id=\"T_4dfef_row16_col3\" class=\"data row16 col3\" >2453.9172</td>\n",
       "      <td id=\"T_4dfef_row16_col4\" class=\"data row16 col4\" >-8.3861</td>\n",
       "      <td id=\"T_4dfef_row16_col5\" class=\"data row16 col5\" >1.5786</td>\n",
       "      <td id=\"T_4dfef_row16_col6\" class=\"data row16 col6\" >243146.7004</td>\n",
       "      <td id=\"T_4dfef_row16_col7\" class=\"data row16 col7\" >0.0167</td>\n",
       "    </tr>\n",
       "    <tr>\n",
       "      <th id=\"T_4dfef_level0_row17\" class=\"row_heading level0 row17\" >lr</th>\n",
       "      <td id=\"T_4dfef_row17_col0\" class=\"data row17 col0\" >Linear Regression</td>\n",
       "      <td id=\"T_4dfef_row17_col1\" class=\"data row17 col1\" >1496892.5417</td>\n",
       "      <td id=\"T_4dfef_row17_col2\" class=\"data row17 col2\" >5811974963200.0000</td>\n",
       "      <td id=\"T_4dfef_row17_col3\" class=\"data row17 col3\" >2362761.6667</td>\n",
       "      <td id=\"T_4dfef_row17_col4\" class=\"data row17 col4\" >-8642317.0278</td>\n",
       "      <td id=\"T_4dfef_row17_col5\" class=\"data row17 col5\" >8.0592</td>\n",
       "      <td id=\"T_4dfef_row17_col6\" class=\"data row17 col6\" >6042415.1769</td>\n",
       "      <td id=\"T_4dfef_row17_col7\" class=\"data row17 col7\" >0.0167</td>\n",
       "    </tr>\n",
       "    <tr>\n",
       "      <th id=\"T_4dfef_level0_row18\" class=\"row_heading level0 row18\" >lar</th>\n",
       "      <td id=\"T_4dfef_row18_col0\" class=\"data row18 col0\" >Least Angle Regression</td>\n",
       "      <td id=\"T_4dfef_row18_col1\" class=\"data row18 col1\" >1634079821673301593292800.0000</td>\n",
       "      <td id=\"T_4dfef_row18_col2\" class=\"data row18 col2\" >14503419337193830473375297837605333937936306012160.0000</td>\n",
       "      <td id=\"T_4dfef_row18_col3\" class=\"data row18 col3\" >2362365179097291467784192.0000</td>\n",
       "      <td id=\"T_4dfef_row18_col4\" class=\"data row18 col4\" >-78979518679247052572785653457408114686951424.0000</td>\n",
       "      <td id=\"T_4dfef_row18_col5\" class=\"data row18 col5\" >46.3331</td>\n",
       "      <td id=\"T_4dfef_row18_col6\" class=\"data row18 col6\" >24767664006509044432896.0000</td>\n",
       "      <td id=\"T_4dfef_row18_col7\" class=\"data row18 col7\" >0.0200</td>\n",
       "    </tr>\n",
       "  </tbody>\n",
       "</table>\n"
      ],
      "text/plain": [
       "<pandas.io.formats.style.Styler at 0x7fb1d5938750>"
      ]
     },
     "metadata": {},
     "output_type": "display_data"
    }
   ],
   "source": [
    "for i, t in enumerate(target):\n",
    "    # initialize setup from pycaret.regression\n",
    "    s = setup(data_train.reset_index(drop=True),\n",
    "              target = t, train_size = 0.95,\n",
    "              data_split_shuffle = False, fold_strategy = 'timeseries', fold = 3,\n",
    "              normalize=True,\n",
    "              ignore_features = [target[(i+1)%2]],\n",
    "              numeric_features = list(num_features),\n",
    "              categorical_features = ['company'],\n",
    "              silent = True, verbose = False, session_id = 123)\n",
    "    \n",
    "    #add_metric('smape', 'SMAPE', smape, greater_is_better=False)\n",
    "    # compare all models and select best one based on RMSE \n",
    "    # (because we use SMAPE for multivariate dependent variable)\n",
    "    best_model = compare_models(sort = 'RMSE', verbose=True)\n",
    "    \n",
    "    # capture the compare result grid and store best model in list\n",
    "    p = pull().iloc[0:1]\n",
    "    p['time_series'] = str(i)\n",
    "    all_results.append(p)\n",
    "    \n",
    "    # finalize model i.e. fit on entire data including test set\n",
    "    f = finalize_model(best_model)\n",
    "    \n",
    "    # attach final model to a dictionary\n",
    "    final_model[i] = f\n",
    "    \n",
    "    # save transformation pipeline and model as pickle file \n",
    "    #save_model(f, model_name='trained_models/' + str(i), verbose=False)"
   ]
  },
  {
   "cell_type": "code",
   "execution_count": 84,
   "id": "dietary-charity",
   "metadata": {},
   "outputs": [
    {
     "data": {
      "text/plain": [
       "[                    Model      MAE         MSE      RMSE      R2   RMSLE  \\\n",
       " et  Extra Trees Regressor  77.2982  31097.5277  155.3089  0.6275  0.9948   \n",
       " \n",
       "        MAPE    SMAPE  TT (Sec) time_series  \n",
       " et  24.6354  55.4145      0.34           0  ,\n",
       "                            Model       MAE          MSE      RMSE      R2  \\\n",
       " gbr  Gradient Boosting Regressor  317.9184  581939.5483  652.9629  0.5888   \n",
       " \n",
       "       RMSLE       MAPE   SMAPE  TT (Sec) time_series  \n",
       " gbr  1.1144  2232.5199  48.583      0.37           1  ,\n",
       "                     Model      MAE         MSE      RMSE      R2   RMSLE  \\\n",
       " et  Extra Trees Regressor  77.2982  31097.5277  155.3089  0.6275  0.9948   \n",
       " \n",
       "        MAPE  TT (Sec) time_series  \n",
       " et  24.6354    0.3467           0  ,\n",
       "                             Model       MAE          MSE      RMSE     R2  \\\n",
       " par  Passive Aggressive Regressor  302.1858  353579.4676  543.7311  0.648   \n",
       " \n",
       "       RMSLE      MAPE  TT (Sec) time_series  \n",
       " par  1.3538  5224.446      0.02           1  ]"
      ]
     },
     "execution_count": 84,
     "metadata": {},
     "output_type": "execute_result"
    }
   ],
   "source": [
    "all_results"
   ]
  },
  {
   "cell_type": "code",
   "execution_count": 85,
   "id": "separated-velvet",
   "metadata": {},
   "outputs": [],
   "source": [
    "pred_0 = predict_model(final_model[0], data=X_test)['Label']\n",
    "pred_1 = predict_model(final_model[1], data=X_test)['Label']\n",
    "preds = pd.concat([pred_0, pred_1], axis=1).values"
   ]
  },
  {
   "cell_type": "code",
   "execution_count": 77,
   "id": "robust-factor",
   "metadata": {},
   "outputs": [
    {
     "data": {
      "text/plain": [
       "28.667750345692042"
      ]
     },
     "execution_count": 77,
     "metadata": {},
     "output_type": "execute_result"
    }
   ],
   "source": [
    "smape(preds, y_test)"
   ]
  },
  {
   "cell_type": "markdown",
   "id": "reported-might",
   "metadata": {},
   "source": [
    "Wow! We significantly improved our model score on test."
   ]
  },
  {
   "cell_type": "markdown",
   "id": "binding-appointment",
   "metadata": {},
   "source": [
    "## Parameters tuning"
   ]
  },
  {
   "cell_type": "markdown",
   "id": "hollywood-issue",
   "metadata": {},
   "source": [
    "Let's tune parameters of both new models"
   ]
  },
  {
   "cell_type": "code",
   "execution_count": null,
   "id": "alternative-petite",
   "metadata": {},
   "outputs": [],
   "source": []
  },
  {
   "cell_type": "markdown",
   "id": "double-necessity",
   "metadata": {},
   "source": [
    "## Interpretation"
   ]
  },
  {
   "cell_type": "code",
   "execution_count": null,
   "id": "expensive-stick",
   "metadata": {},
   "outputs": [],
   "source": []
  }
 ],
 "metadata": {
  "kernelspec": {
   "display_name": "practice",
   "language": "python",
   "name": "practice"
  },
  "language_info": {
   "codemirror_mode": {
    "name": "ipython",
    "version": 3
   },
   "file_extension": ".py",
   "mimetype": "text/x-python",
   "name": "python",
   "nbconvert_exporter": "python",
   "pygments_lexer": "ipython3",
   "version": "3.7.9"
  }
 },
 "nbformat": 4,
 "nbformat_minor": 5
}
